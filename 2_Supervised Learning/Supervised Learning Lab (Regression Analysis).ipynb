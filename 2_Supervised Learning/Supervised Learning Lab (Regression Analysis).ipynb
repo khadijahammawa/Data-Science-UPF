{
 "cells": [
  {
   "cell_type": "markdown",
   "id": "e2ef998b",
   "metadata": {},
   "source": [
    "# Supervised Learning Lab"
   ]
  },
  {
   "cell_type": "markdown",
   "id": "ae4e5deb",
   "metadata": {},
   "source": [
    "# Introduction\n",
    "In this lab session the aim is to get hands-on experience with a machine learning library for supervised\n",
    "learning. We will solve both regression tasks and classification tasks. All examples in the handout are taken\n",
    "from Matlab, but you are free to use any other machine learning library of your choice.\n",
    "After completing the tasks, you should write a report in PDF that includes the results of all tasks. To\n",
    "submit your solution, create a compressed file that includes your source code and the report, and upload the\n",
    "compressed file to the Aula Global.\n",
    "Students are free to use AI tools for the creation of ths report but in this case they must include a\n",
    "detailed description of how they used the AI tools in their submission. Such details include (but not limited\n",
    "to) which AI tools were used, with which prompts, how the AI generated content is used in the assignment,\n",
    "etc. Note that while GPTs are great products of ML,these models can still generate incorrect answers (i.e.,\n",
    "these models can hallucinate). Always use AI tools with caution."
   ]
  },
  {
   "cell_type": "markdown",
   "id": "481ce0db",
   "metadata": {},
   "source": [
    "# Overview\n",
    "1. Regression\n",
    "    - Task 1: Generate a number of smaller datasets\n",
    "    - Task 2: Apply linear regression\n",
    "    - Task 3: Plot the resulting error\n",
    "    - Task 4: Quadratic non-linear transform\n",
    "    - Task 5: Three most important features"
   ]
  },
  {
   "cell_type": "markdown",
   "id": "04a1d375",
   "metadata": {},
   "source": [
    "# 1. Regression\n",
    "The variables from left to right, are:\n",
    "Density determined from underwater weighing Percent body fat from Siri’s (1956) equation Age (years)\n",
    "Weight (lbs) Height (inches) Neck circumference (cm) Chest circumference (cm) Abdomen 2 circumference\n",
    "(cm) Hip circumference (cm) Thigh circumference (cm) Knee circumference (cm) Ankle circumference (cm)\n",
    "Biceps (extended) circumference (cm) Forearm circumference (cm) Wrist circumference (cm)"
   ]
  },
  {
   "cell_type": "code",
   "execution_count": 46,
   "id": "0c999c94",
   "metadata": {},
   "outputs": [],
   "source": [
    "# Load Libraries\n",
    "import pandas as pd\n",
    "import numpy as np\n",
    "import matplotlib.pyplot as plt\n",
    "from random import randint\n",
    "\n",
    "# Models\n",
    "from sklearn.linear_model import LinearRegression\n",
    "\n",
    "# Preprocessing\n",
    "from sklearn.preprocessing import StandardScaler\n",
    "from sklearn.model_selection import train_test_split\n",
    "\n",
    "# Evaluate\n",
    "from sklearn.metrics import mean_squared_error\n",
    "\n",
    "import warnings \n",
    "warnings.filterwarnings('ignore')"
   ]
  },
  {
   "cell_type": "markdown",
   "id": "f8effd50",
   "metadata": {},
   "source": [
    "### Task 1: Generate a number of smaller datasets by randomly selecting 10, 20, . . . data points (xn, yn)."
   ]
  },
  {
   "cell_type": "code",
   "execution_count": 47,
   "id": "046c857f",
   "metadata": {},
   "outputs": [],
   "source": [
    "class dirs:\n",
    "    home = 'C:/Users/obeyk/Desktop/UPF/Trimester 1/Data Science/Assignments/Supervised Learning'\n",
    "    bodyfat = 'bodyfat.txt'"
   ]
  },
  {
   "cell_type": "code",
   "execution_count": 48,
   "id": "70670a9b",
   "metadata": {},
   "outputs": [],
   "source": [
    "data = f'{dirs.home}/{dirs.bodyfat}'"
   ]
  },
  {
   "cell_type": "code",
   "execution_count": 49,
   "id": "baab101e",
   "metadata": {},
   "outputs": [],
   "source": [
    "col_names = ['density', 'bodyfat', 'age', 'weight', 'height', \n",
    "             'neck', 'chest', 'abs', 'hip', 'thigh', \n",
    "             'knee', 'ankle', 'biceps', 'forearm', 'wrist']"
   ]
  },
  {
   "cell_type": "code",
   "execution_count": 50,
   "id": "5f7dfbc7",
   "metadata": {},
   "outputs": [],
   "source": [
    "data = pd.read_csv(data, delimiter=' ', index_col=False, names=col_names)"
   ]
  },
  {
   "cell_type": "code",
   "execution_count": 51,
   "id": "d6ba6b3a",
   "metadata": {},
   "outputs": [
    {
     "data": {
      "text/plain": [
       "(252, 15)"
      ]
     },
     "execution_count": 51,
     "metadata": {},
     "output_type": "execute_result"
    }
   ],
   "source": [
    "# Define a function to remove the numbered prefixes\n",
    "def remove_prefix(value):\n",
    "    if isinstance(value, str):\n",
    "        return value.split(':', 1)[-1]  # Split at the first ':' and take the right part\n",
    "    else:\n",
    "        return value\n",
    "\n",
    "# Apply the function to each cell in the DataFrame\n",
    "data = data.applymap(remove_prefix)\n",
    "data.shape"
   ]
  },
  {
   "cell_type": "code",
   "execution_count": 52,
   "id": "35f63da4",
   "metadata": {},
   "outputs": [
    {
     "data": {
      "text/html": [
       "<div>\n",
       "<style scoped>\n",
       "    .dataframe tbody tr th:only-of-type {\n",
       "        vertical-align: middle;\n",
       "    }\n",
       "\n",
       "    .dataframe tbody tr th {\n",
       "        vertical-align: top;\n",
       "    }\n",
       "\n",
       "    .dataframe thead th {\n",
       "        text-align: right;\n",
       "    }\n",
       "</style>\n",
       "<table border=\"1\" class=\"dataframe\">\n",
       "  <thead>\n",
       "    <tr style=\"text-align: right;\">\n",
       "      <th></th>\n",
       "      <th>density</th>\n",
       "      <th>bodyfat</th>\n",
       "      <th>age</th>\n",
       "      <th>weight</th>\n",
       "      <th>height</th>\n",
       "      <th>neck</th>\n",
       "      <th>chest</th>\n",
       "      <th>abs</th>\n",
       "      <th>hip</th>\n",
       "      <th>thigh</th>\n",
       "      <th>knee</th>\n",
       "      <th>ankle</th>\n",
       "      <th>biceps</th>\n",
       "      <th>forearm</th>\n",
       "      <th>wrist</th>\n",
       "    </tr>\n",
       "  </thead>\n",
       "  <tbody>\n",
       "    <tr>\n",
       "      <th>0</th>\n",
       "      <td>1.0708</td>\n",
       "      <td>12.3</td>\n",
       "      <td>23</td>\n",
       "      <td>154.25</td>\n",
       "      <td>67.75</td>\n",
       "      <td>36.2</td>\n",
       "      <td>93.1</td>\n",
       "      <td>85.2</td>\n",
       "      <td>94.5</td>\n",
       "      <td>59.0</td>\n",
       "      <td>37.3</td>\n",
       "      <td>21.9</td>\n",
       "      <td>32.0</td>\n",
       "      <td>27.4</td>\n",
       "      <td>17.1</td>\n",
       "    </tr>\n",
       "    <tr>\n",
       "      <th>1</th>\n",
       "      <td>1.0853</td>\n",
       "      <td>6.1</td>\n",
       "      <td>22</td>\n",
       "      <td>173.25</td>\n",
       "      <td>72.25</td>\n",
       "      <td>38.5</td>\n",
       "      <td>93.6</td>\n",
       "      <td>83.0</td>\n",
       "      <td>98.7</td>\n",
       "      <td>58.7</td>\n",
       "      <td>37.3</td>\n",
       "      <td>23.4</td>\n",
       "      <td>30.5</td>\n",
       "      <td>28.9</td>\n",
       "      <td>18.2</td>\n",
       "    </tr>\n",
       "    <tr>\n",
       "      <th>2</th>\n",
       "      <td>1.0414</td>\n",
       "      <td>25.3</td>\n",
       "      <td>22</td>\n",
       "      <td>154.00</td>\n",
       "      <td>66.25</td>\n",
       "      <td>34.0</td>\n",
       "      <td>95.8</td>\n",
       "      <td>87.9</td>\n",
       "      <td>99.2</td>\n",
       "      <td>59.6</td>\n",
       "      <td>38.9</td>\n",
       "      <td>24.0</td>\n",
       "      <td>28.8</td>\n",
       "      <td>25.2</td>\n",
       "      <td>16.6</td>\n",
       "    </tr>\n",
       "    <tr>\n",
       "      <th>3</th>\n",
       "      <td>1.0751</td>\n",
       "      <td>10.4</td>\n",
       "      <td>26</td>\n",
       "      <td>184.75</td>\n",
       "      <td>72.25</td>\n",
       "      <td>37.4</td>\n",
       "      <td>101.8</td>\n",
       "      <td>86.4</td>\n",
       "      <td>101.2</td>\n",
       "      <td>60.1</td>\n",
       "      <td>37.3</td>\n",
       "      <td>22.8</td>\n",
       "      <td>32.4</td>\n",
       "      <td>29.4</td>\n",
       "      <td>18.2</td>\n",
       "    </tr>\n",
       "    <tr>\n",
       "      <th>4</th>\n",
       "      <td>1.0340</td>\n",
       "      <td>28.7</td>\n",
       "      <td>24</td>\n",
       "      <td>184.25</td>\n",
       "      <td>71.25</td>\n",
       "      <td>34.4</td>\n",
       "      <td>97.3</td>\n",
       "      <td>100.0</td>\n",
       "      <td>101.9</td>\n",
       "      <td>63.2</td>\n",
       "      <td>42.2</td>\n",
       "      <td>24.0</td>\n",
       "      <td>32.2</td>\n",
       "      <td>27.7</td>\n",
       "      <td>17.7</td>\n",
       "    </tr>\n",
       "  </tbody>\n",
       "</table>\n",
       "</div>"
      ],
      "text/plain": [
       "   density bodyfat age  weight height  neck  chest    abs    hip thigh  knee  \\\n",
       "0   1.0708    12.3  23  154.25  67.75  36.2   93.1   85.2   94.5  59.0  37.3   \n",
       "1   1.0853     6.1  22  173.25  72.25  38.5   93.6   83.0   98.7  58.7  37.3   \n",
       "2   1.0414    25.3  22  154.00  66.25  34.0   95.8   87.9   99.2  59.6  38.9   \n",
       "3   1.0751    10.4  26  184.75  72.25  37.4  101.8   86.4  101.2  60.1  37.3   \n",
       "4   1.0340    28.7  24  184.25  71.25  34.4   97.3  100.0  101.9  63.2  42.2   \n",
       "\n",
       "  ankle biceps forearm wrist  \n",
       "0  21.9   32.0    27.4  17.1  \n",
       "1  23.4   30.5    28.9  18.2  \n",
       "2  24.0   28.8    25.2  16.6  \n",
       "3  22.8   32.4    29.4  18.2  \n",
       "4  24.0   32.2    27.7  17.7  "
      ]
     },
     "execution_count": 52,
     "metadata": {},
     "output_type": "execute_result"
    }
   ],
   "source": [
    "data.head()"
   ]
  },
  {
   "cell_type": "code",
   "execution_count": 53,
   "id": "5ae4346f",
   "metadata": {},
   "outputs": [],
   "source": [
    "# Convert dtype objects -> float64\n",
    "for col in data.columns:\n",
    "    data[col] = pd.to_numeric(data[col])"
   ]
  },
  {
   "cell_type": "code",
   "execution_count": 54,
   "id": "254b8fa3",
   "metadata": {},
   "outputs": [],
   "source": [
    "# Create function ot preprocess data\n",
    "def preprocessing_inputs(df):\n",
    "    df = df.copy()\n",
    "    \n",
    "    # Split DataFrame\n",
    "    y = df['bodyfat']\n",
    "    X = df.drop('bodyfat', axis=1)\n",
    "    \n",
    "    # Train Test Split\n",
    "    X_train, X_test, y_train, y_test = train_test_split(X, y, test_size=0.3, random_state=1)\n",
    "    \n",
    "    # Scale X\n",
    "    scaler = StandardScaler()\n",
    "    X_train = scaler.fit(X_train).transform(X_train)\n",
    "    X_test = scaler.fit(X_test).transform(X_test)\n",
    "    \n",
    "    return X_train, X_test, y_train, y_test"
   ]
  },
  {
   "cell_type": "code",
   "execution_count": 55,
   "id": "531aea9f",
   "metadata": {},
   "outputs": [],
   "source": [
    "# Datasets generated in next code block #"
   ]
  },
  {
   "cell_type": "markdown",
   "id": "f2804b5a",
   "metadata": {},
   "source": [
    "### Task 2: For each dataset, apply linear regression to obtain a linear hypothesis (i.e. weight vector) that minimizes the mean square error for all data points (a.k.a. empirical risk)."
   ]
  },
  {
   "cell_type": "code",
   "execution_count": 56,
   "id": "186ed956",
   "metadata": {},
   "outputs": [
    {
     "name": "stdout",
     "output_type": "stream",
     "text": [
      "Average MSE for 100 samples with 70% of data retained, repeated 5 times: 4.829156021149666\n"
     ]
    }
   ],
   "source": [
    "# Initialize lists to store results\n",
    "total_avg_mse = []\n",
    "\n",
    "# Run your model 5 times\n",
    "for run in range(1,6):\n",
    "    for i in range(1,101):\n",
    "        sample_mse =[]\n",
    "        # Randomly select ~176 data points from dataset \n",
    "        df = data.sample(frac=0.7, random_state=randint(1,100)) \n",
    "    \n",
    "        # Preprocess \n",
    "        X_train, X_test, y_train, y_test = preprocessing_inputs(df)\n",
    "\n",
    "        # Train\n",
    "        linreg = LinearRegression()\n",
    "        linreg.fit(X_train, y_train)\n",
    "\n",
    "        # Predict\n",
    "        yhat = linreg.predict(X_test)\n",
    "        lin_mse = np.mean((yhat - y_test) ** 2)\n",
    "\n",
    "        # Evaluate\n",
    "        sample_mse.append(lin_mse)\n",
    "\n",
    "        # Calculate the average MSE for this sample\n",
    "        avg_mse = np.mean(sample_mse)\n",
    "    \n",
    "    total_avg_mse.append(avg_mse)\n",
    "\n",
    "print(f'Average MSE for 100 samples with 70% of data retained, repeated 5 times: {np.mean(total_avg_mse)}')"
   ]
  },
  {
   "cell_type": "markdown",
   "id": "ed9c6091",
   "metadata": {},
   "source": [
    "### Task 3: Plot the resulting error (the empirical risk) as a function of the number of data points. To get a better estimate it is a good idea to generate multiple datasets for each number of data points and take the average."
   ]
  },
  {
   "cell_type": "code",
   "execution_count": 57,
   "id": "614ff469",
   "metadata": {},
   "outputs": [],
   "source": [
    "# Define a range of sample sizes\n",
    "sample_sizes = [0.1, 0.2, 0.3, 0.4, 0.5, 0.6, 0.7, 0.8, 0.9]\n",
    "num_datasets = len(sample_sizes)"
   ]
  },
  {
   "cell_type": "code",
   "execution_count": 58,
   "id": "4a2d9922",
   "metadata": {},
   "outputs": [],
   "source": [
    "# Initialize lists to store results\n",
    "sample_sizes_list = []\n",
    "avg_mse_list = []"
   ]
  },
  {
   "cell_type": "code",
   "execution_count": 59,
   "id": "4f00f27d",
   "metadata": {},
   "outputs": [],
   "source": [
    "for sample_size in sample_sizes:\n",
    "    sample_mse = []  # List to store MSE for multiple datasets at this sample size\n",
    "    for _ in range(num_datasets):\n",
    "        df = data.sample(frac=sample_size, random_state=1000)\n",
    "        X_train, X_test, y_train, y_test = preprocessing_inputs(df)\n",
    "\n",
    "        linreg = LinearRegression()\n",
    "        linreg.fit(X_train, y_train)\n",
    "\n",
    "        yhat = linreg.predict(X_test)\n",
    "        lin_mse = np.mean((yhat - y_test) ** 2)\n",
    "\n",
    "        sample_mse.append(lin_mse)\n",
    "\n",
    "    # Calculate the average MSE for this sample size\n",
    "    avg_mse = np.mean(sample_mse)\n",
    "\n",
    "    # Store the results in lists\n",
    "    sample_sizes_list.append(sample_size)\n",
    "    avg_mse_list.append(avg_mse)"
   ]
  },
  {
   "cell_type": "code",
   "execution_count": 60,
   "id": "560f42bb",
   "metadata": {},
   "outputs": [
    {
     "data": {
      "image/png": "[encoded data removed]",
      "text/plain": [
       "<Figure size 800x600 with 1 Axes>"
      ]
     },
     "metadata": {},
     "output_type": "display_data"
    }
   ],
   "source": [
    "# Plot the results\n",
    "plt.figure(figsize=(8, 6))\n",
    "plt.plot(sample_sizes_list, avg_mse_list, marker='o')\n",
    "plt.xlabel('Sample Size (Fraction)')\n",
    "plt.ylabel('Average MSE')\n",
    "plt.title('Empirical Risk vs. Sample Size')\n",
    "plt.grid(True)\n",
    "plt.show()"
   ]
  },
  {
   "cell_type": "markdown",
   "id": "6d4a6d1e",
   "metadata": {},
   "source": [
    "### Task 4: Repeat the process for a quadratic non-linear transform, and compare the result of the two approaches."
   ]
  },
  {
   "cell_type": "code",
   "execution_count": 61,
   "id": "85a4d49b",
   "metadata": {},
   "outputs": [],
   "source": [
    "# Function to apply a quadratic nonlinear transformation to the feature matrix X\n",
    "def apply_quadratic_transform(X):\n",
    "    X_transformed = np.column_stack((X, X**2))\n",
    "    return X_transformed"
   ]
  },
  {
   "cell_type": "code",
   "execution_count": 62,
   "id": "d59d9e98",
   "metadata": {},
   "outputs": [],
   "source": [
    "# Initialize lists to store results\n",
    "sample_sizes_list = []\n",
    "linear_avg_mse_list = []\n",
    "quadratic_avg_mse_list = []"
   ]
  },
  {
   "cell_type": "code",
   "execution_count": 63,
   "id": "8a1d9ba9",
   "metadata": {},
   "outputs": [],
   "source": [
    "for sample_size in sample_sizes:\n",
    "    linear_sample_mse = []  # List to store MSE for multiple datasets at this sample size\n",
    "    quadratic_sample_mse = []  # List to store MSE for quadratic transformed data\n",
    "    for _ in range(num_datasets):\n",
    "        df = data.sample(frac=sample_size, random_state=1000)\n",
    "        X_train, X_test, y_train, y_test = preprocessing_inputs(df)\n",
    "\n",
    "        # Linear regression on original data\n",
    "        linreg_linear = LinearRegression()\n",
    "        linreg_linear.fit(X_train, y_train)\n",
    "        yhat_linear = linreg_linear.predict(X_test)\n",
    "        lin_mse_linear = np.mean((yhat_linear - y_test) ** 2)\n",
    "        linear_sample_mse.append(lin_mse_linear)\n",
    "\n",
    "        # Apply quadratic transform and perform linear regression\n",
    "        X_train_quadratic = apply_quadratic_transform(X_train)\n",
    "        X_test_quadratic = apply_quadratic_transform(X_test)\n",
    "        linreg_quadratic = LinearRegression()\n",
    "        linreg_quadratic.fit(X_train_quadratic, y_train)\n",
    "        yhat_quadratic = linreg_quadratic.predict(X_test_quadratic)\n",
    "        lin_mse_quadratic = np.mean((yhat_quadratic - y_test) ** 2)\n",
    "        quadratic_sample_mse.append(lin_mse_quadratic)\n",
    "\n",
    "    # Calculate the average MSE for both linear and quadratic models\n",
    "    linear_avg_mse = np.mean(linear_sample_mse)\n",
    "    quadratic_avg_mse = np.mean(quadratic_sample_mse)\n",
    "\n",
    "    # Store the results\n",
    "    sample_sizes_list.append(sample_size)\n",
    "    linear_avg_mse_list.append(linear_avg_mse)\n",
    "    quadratic_avg_mse_list.append(quadratic_avg_mse)"
   ]
  },
  {
   "cell_type": "code",
   "execution_count": 64,
   "id": "344732bc",
   "metadata": {},
   "outputs": [
    {
     "data": {
      "image/png": "[encoded data removed]",
      "text/plain": [
       "<Figure size 800x600 with 1 Axes>"
      ]
     },
     "metadata": {},
     "output_type": "display_data"
    }
   ],
   "source": [
    "# Plot the results\n",
    "plt.figure(figsize=(8, 6))\n",
    "plt.plot(sample_sizes_list, linear_avg_mse_list, marker='o', label='Linear Regression (Original Data)')\n",
    "plt.plot(sample_sizes_list, quadratic_avg_mse_list, marker='o', label='Linear Regression (Quadratic Transform)')\n",
    "plt.xlabel('Sample Size (Fraction)')\n",
    "plt.ylabel('Average MSE')\n",
    "plt.title('Empirical Risk vs. Sample Size')\n",
    "plt.legend()\n",
    "plt.grid(True)\n",
    "plt.show()"
   ]
  },
  {
   "cell_type": "markdown",
   "id": "56ad329b",
   "metadata": {},
   "source": [
    "### Task 5: Which are the three most important features for the linear and quadratic model? How much is the performace drop if you only use them"
   ]
  },
  {
   "cell_type": "code",
   "execution_count": 65,
   "id": "723cd4d6",
   "metadata": {},
   "outputs": [],
   "source": [
    "# Preprocess \n",
    "X_train, X_test, y_train, y_test = preprocessing_inputs(data)\n",
    "\n",
    "# Train and test the linear model with all features\n",
    "model = LinearRegression()\n",
    "model.fit(X_train, y_train)\n",
    "\n",
    "# Get the coefficients for each variable in the linear model\n",
    "linear_coefficients = model.coef_"
   ]
  },
  {
   "cell_type": "code",
   "execution_count": 66,
   "id": "968cf713",
   "metadata": {},
   "outputs": [
    {
     "name": "stdout",
     "output_type": "stream",
     "text": [
      "Top 3 Features for Linear Model: ['density', 'abs', 'hip']\n"
     ]
    }
   ],
   "source": [
    "# Identify the top 3 features for the linear model\n",
    "top_feature_indices = np.argsort(np.abs(linear_coefficients))[::-1][:3]\n",
    "top_feature_names = data.columns[top_feature_indices]\n",
    "\n",
    "print(\"Top 3 Features for Linear Model:\", list(top_feature_names))"
   ]
  },
  {
   "cell_type": "code",
   "execution_count": 67,
   "id": "b6aba820",
   "metadata": {},
   "outputs": [],
   "source": [
    "# Train and test the linear model with all features\n",
    "linreg_linear_all_features = LinearRegression()\n",
    "linreg_linear_all_features.fit(X_train, y_train)\n",
    "\n",
    "yhat_linear_all_features = linreg_linear_all_features.predict(X_test)\n",
    "mse_linear_all_features = mean_squared_error(y_test, yhat_linear_all_features)"
   ]
  },
  {
   "cell_type": "code",
   "execution_count": 68,
   "id": "b07984a4",
   "metadata": {},
   "outputs": [],
   "source": [
    "# Train and test the quadratic model with all features\n",
    "X_train_quadratic_all_features = apply_quadratic_transform(X_train)\n",
    "X_test_quadratic_all_features = apply_quadratic_transform(X_test)\n",
    "\n",
    "linreg_quadratic_all_features = LinearRegression()\n",
    "linreg_quadratic_all_features.fit(X_train_quadratic_all_features, y_train)\n",
    "yhat_quadratic_all_features = linreg_quadratic_all_features.predict(X_test_quadratic_all_features)\n",
    "mse_quadratic_all_features = mean_squared_error(y_test, yhat_quadratic_all_features)"
   ]
  },
  {
   "cell_type": "code",
   "execution_count": 69,
   "id": "bc76fc3a",
   "metadata": {},
   "outputs": [],
   "source": [
    "# Create new datasets with only the top 3 features\n",
    "X_train_top_linear = X_train[:, top_feature_indices]\n",
    "X_test_top_linear = X_test[:, top_feature_indices]\n",
    "\n",
    "# Train and test the linear model with the top 3 features\n",
    "linreg_linear_top_features = LinearRegression()\n",
    "linreg_linear_top_features.fit(X_train_top_linear, y_train)\n",
    "yhat_linear_top_features = linreg_linear_top_features.predict(X_test_top_linear)\n",
    "mse_linear_top_features = mean_squared_error(y_test, yhat_linear_top_features)\n",
    "\n",
    "# Apply quadratic transform to the top 3 features for the quadratic model\n",
    "X_train_quadratic_top_features = apply_quadratic_transform(X_train_top_linear)\n",
    "X_test_quadratic_top_features = apply_quadratic_transform(X_test_top_linear)\n",
    "\n",
    "linreg_quadratic_top_features = LinearRegression()\n",
    "linreg_quadratic_top_features.fit(X_train_quadratic_top_features, y_train)\n",
    "yhat_quadratic_top_features = linreg_quadratic_top_features.predict(X_test_quadratic_top_features)\n",
    "mse_quadratic_top_features = mean_squared_error(y_test, yhat_quadratic_top_features)"
   ]
  },
  {
   "cell_type": "code",
   "execution_count": 70,
   "id": "bee6be2f",
   "metadata": {},
   "outputs": [
    {
     "name": "stdout",
     "output_type": "stream",
     "text": [
      "   Linear Model - All Features MSE: 5.498420144306041\n",
      "Quadratic Model - All Features MSE: 5.4405075717605165\n",
      "=========================================================\n",
      "   Linear Model - Top 3 Features MSE: 5.472839361879788\n",
      "Quadratic Model - Top 3 Features MSE: 5.234042874886772\n"
     ]
    }
   ],
   "source": [
    "# Display the results for models with all features\n",
    "print('   Linear Model - All Features MSE:', mse_linear_all_features)\n",
    "print('Quadratic Model - All Features MSE:', mse_quadratic_all_features)\n",
    "print('=========================================================')\n",
    "\n",
    "# Display the results for models with only the top 3 features\n",
    "print('   Linear Model - Top 3 Features MSE:', mse_linear_top_features)\n",
    "print('Quadratic Model - Top 3 Features MSE:', mse_quadratic_top_features)"
   ]
  }
 ],
 "metadata": {
  "kernelspec": {
   "display_name": "Python 3.11",
   "language": "python",
   "name": "python3.11"
  },
  "language_info": {
   "codemirror_mode": {
    "name": "ipython",
    "version": 3
   },
   "file_extension": ".py",
   "mimetype": "text/x-python",
   "name": "python",
   "nbconvert_exporter": "python",
   "pygments_lexer": "ipython3",
   "version": "3.11.6"
  }
 },
 "nbformat": 4,
 "nbformat_minor": 5
}
